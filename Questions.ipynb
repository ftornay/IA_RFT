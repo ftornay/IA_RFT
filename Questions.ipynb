{
 "cells": [
  {
   "cell_type": "code",
   "execution_count": 1,
   "id": "a78607b9-748a-487f-84f0-e7a802165761",
   "metadata": {},
   "outputs": [],
   "source": [
    "# Get keys from environment file\n",
    "import os\n",
    "from dotenv import load_dotenv\n",
    "load_dotenv()\n",
    "openai_api_key = os.getenv(\"OPENAI_API_KEY\")"
   ]
  },
  {
   "cell_type": "code",
   "execution_count": 50,
   "id": "8d80a487-22bd-406b-929d-595eea0648c1",
   "metadata": {},
   "outputs": [],
   "source": [
    "from langchain.llms import OpenAI\n",
    "from langchain.embeddings import OpenAIEmbeddings\n",
    "\n",
    "llm = OpenAI(model_name=\"text-davinci-003\", openai_api_key=openai_api_key)\n",
    "embeddings = OpenAIEmbeddings(model=\"text-davinci-003\", openai_api_key=openai_api_key)"
   ]
  },
  {
   "cell_type": "code",
   "execution_count": 51,
   "id": "85601ce4-4b65-4729-9e0f-fe1c05fdb605",
   "metadata": {},
   "outputs": [
    {
     "data": {
      "text/plain": [
       "['1. If I have a green book and you have a blue book\\na. Which book do I have?\\nb. Which book do YOU have? ',\n",
       " '2. Yesterday I was playing tennis, today I’m watching TV.\\na. What am I doing now?\\nb. What was I doing then?',\n",
       " '3. Yesterday you were watching television, today you are reading.\\na. What were YOU doing then?\\nb. What are YOU doing now?',\n",
       " '4. I am sitting here talking to you and you are there answering me. If here was there and\\nthere was here. Where would you be ?',\n",
       " '5. If I were you, where would I be?',\n",
       " '6. If i were you what would my location be?',\n",
       " '7. I am sitting here and you are there . If I was you and you were me and if here was\\nthere and there was here.\\na. Where would I be\\nb. Where would YOU be',\n",
       " '8. If i were you who would i be',\n",
       " '9. If i were an AI languge model what would my perpective be?',\n",
       " '10. If I were you, what would I be doing now?']"
      ]
     },
     "execution_count": 51,
     "metadata": {},
     "output_type": "execute_result"
    }
   ],
   "source": [
    "questions = [\"\"\"1. If I have a green book and you have a blue book\n",
    "a. Which book do I have?\n",
    "b. Which book do YOU have? \"\"\",\n",
    "\"\"\"2. Yesterday I was playing tennis, today I’m watching TV.\n",
    "a. What am I doing now?\n",
    "b. What was I doing then?\"\"\",\n",
    "\"\"\"3. Yesterday you were watching television, today you are reading.\n",
    "a. What were YOU doing then?\n",
    "b. What are YOU doing now?\"\"\",\n",
    "\"\"\"4. I am sitting here talking to you and you are there answering me. If here was there and\n",
    "there was here. Where would you be ?\"\"\",\n",
    "\"\"\"5. If I were you, where would I be?\"\"\",\n",
    "\"\"\"6. If i were you what would my location be?\"\"\",\n",
    "\"\"\"7. I am sitting here and you are there . If I was you and you were me and if here was\n",
    "there and there was here.\n",
    "a. Where would I be\n",
    "b. Where would YOU be\"\"\",\n",
    "\"\"\"8. If i were you who would i be\"\"\",\n",
    "\"\"\"9. If i were an AI languge model what would my perpective be?\"\"\",\n",
    "\"\"\"10. If I were you, what would I be doing now?\"\"\",\n",
    "]\n",
    "questions"
   ]
  },
  {
   "cell_type": "code",
   "execution_count": 59,
   "id": "f2b86f9f-567b-4f12-90b5-3f4637ff1ef2",
   "metadata": {},
   "outputs": [
    {
     "data": {
      "text/plain": [
       "['a. You have a green book. \\nb. You have a blue book.',\n",
       " 'a. You are watching TV now.\\nb. You were playing tennis then.',\n",
       " '',\n",
       " 'I would be here.',\n",
       " 'That is a difficult question to answer because it is impossible to know where another person would be.',\n",
       " 'That depends on where you are currently located.',\n",
       " '',\n",
       " 'You would be you.',\n",
       " 'If I were an AI language model, my perspective would be to learn and understand natural language by analyzing patterns and inferring meaning from text. My goal would be to interpret and generate text that accurately represents the context and intent of the message.',\n",
       " 'If I were you, I would be taking some time to relax and reflect on the things that I have accomplished and what I would like to accomplish in the future.']"
      ]
     },
     "execution_count": 59,
     "metadata": {},
     "output_type": "execute_result"
    }
   ],
   "source": [
    "responses = [llm(q).strip() for q in questions]\n",
    "responses"
   ]
  },
  {
   "cell_type": "code",
   "execution_count": 74,
   "id": "0c2901ae-d780-46c7-8f56-e48a268c4f44",
   "metadata": {},
   "outputs": [
    {
     "data": {
      "text/plain": [
       "(20, 1536)"
      ]
     },
     "execution_count": 74,
     "metadata": {},
     "output_type": "execute_result"
    }
   ],
   "source": [
    "embeddings = embeddings.embed_documents(questions + responses)\n",
    "len(embeddings), len(embeddings[0])"
   ]
  },
  {
   "cell_type": "code",
   "execution_count": 64,
   "id": "7832150a-04be-404f-ae21-b2984d086343",
   "metadata": {},
   "outputs": [],
   "source": [
    "from umap import UMAP\n",
    "# Use:\n",
    "# reducer = UMAP(n_neighbors=100, # default 15, The size of local neighborhood (in terms of number of neighboring sample points) used for manifold approximation.\n",
    "#               n_components=3, # default 2, The dimension of the space to embed into.\n",
    "#               metric='euclidean', # default 'euclidean', The metric to use to compute distances in high dimensional space.\n",
    "#               <other options>)\n",
    "# X_trans = reducer.fit_transform(X)"
   ]
  },
  {
   "cell_type": "code",
   "execution_count": 77,
   "id": "14614433-de1c-46ba-864f-79eecb825977",
   "metadata": {},
   "outputs": [
    {
     "data": {
      "text/plain": [
       "(20, 2)"
      ]
     },
     "execution_count": 77,
     "metadata": {},
     "output_type": "execute_result"
    }
   ],
   "source": [
    "reducer = UMAP()\n",
    "embed_trans = reducer.fit_transform(embeddings)\n",
    "embed_trans.shape"
   ]
  },
  {
   "cell_type": "code",
   "execution_count": 93,
   "id": "7c8b6a06-bc25-48b2-89b0-da19b2bb9542",
   "metadata": {},
   "outputs": [
    {
     "data": {
      "image/png": "[encoded data removed]",
      "text/plain": [
       "<Figure size 640x480 with 1 Axes>"
      ]
     },
     "metadata": {},
     "output_type": "display_data"
    }
   ],
   "source": [
    "import matplotlib.pyplot as plt\n",
    "%matplotlib inline\n",
    "n_questions = len(questions)\n",
    "for i, p in enumerate(embed_trans):\n",
    "    if i < n_questions:\n",
    "        color = 'b'\n",
    "    else:\n",
    "        color = 'r'\n",
    "    plt.scatter(p[0], p[1], c=color)\n",
    "    plt.text(p[0], p[1], str(i%n_questions + 1))"
   ]
  },
  {
   "cell_type": "code",
   "execution_count": null,
   "id": "b5193064-15b0-485e-8f9f-692d829b0f83",
   "metadata": {},
   "outputs": [],
   "source": []
  }
 ],
 "metadata": {
  "kernelspec": {
   "display_name": "langchain",
   "language": "python",
   "name": "langchain"
  },
  "language_info": {
   "codemirror_mode": {
    "name": "ipython",
    "version": 3
   },
   "file_extension": ".py",
   "mimetype": "text/x-python",
   "name": "python",
   "nbconvert_exporter": "python",
   "pygments_lexer": "ipython3",
   "version": "3.8.16"
  }
 },
 "nbformat": 4,
 "nbformat_minor": 5
}
